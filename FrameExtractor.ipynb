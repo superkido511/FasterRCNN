{
 "cells": [
  {
   "cell_type": "code",
   "execution_count": 24,
   "metadata": {},
   "outputs": [],
   "source": [
    "import time\n",
    "import cv2\n",
    "import os"
   ]
  },
  {
   "cell_type": "code",
   "execution_count": 28,
   "metadata": {},
   "outputs": [],
   "source": [
    "def video_to_frames(input_loc, output_loc):\n",
    "    \"\"\"Function to extract frames from input video file\n",
    "    and save them as separate frames in an output directory.\n",
    "    Args:\n",
    "        input_loc: Input video file.\n",
    "        output_loc: Output directory to save the frames.\n",
    "    Returns:\n",
    "        None\n",
    "    \"\"\"\n",
    "    try:\n",
    "        os.mkdir(output_loc)\n",
    "    except OSError:\n",
    "        pass\n",
    "    # Log the time\n",
    "    time_start = time.time()\n",
    "    # Start capturing the feed\n",
    "    cap = cv2.VideoCapture(input_loc)\n",
    "    if not cap.isOpened(): \n",
    "        print(\"could not open :\",input_loc)\n",
    "        return\n",
    "    # Find the number of frames\n",
    "    video_length = int(cap.get(cv2.CAP_PROP_FRAME_COUNT )) - 1\n",
    "    print (\"Number of frames: \", video_length)\n",
    "    count = 0\n",
    "    print (\"Converting video..\\n\")\n",
    "    # Start converting the video\n",
    "    while cap.isOpened():\n",
    "        cap.set(cv2.CAP_PROP_POS_FRAMES, 10)\n",
    "        # Extract the frame\n",
    "        ret, frame = cap.read()\n",
    "        # Write the results back to output location.\n",
    "        cv2.imwrite(output_loc + \"/%#05d.jpg\" % (count+1), frame)\n",
    "        count = count + 1\n",
    "        # If there are no more frames left\n",
    "        if (count > (video_length-1)):\n",
    "            # Log the time again\n",
    "            time_end = time.time()\n",
    "            # Release the feed\n",
    "            cap.release()\n",
    "            # Print stats\n",
    "            print (\"Done extracting frames.\\n%d frames extracted\" % count)\n",
    "            print (\"It took %d seconds forconversion.\" % (time_end-time_start))\n",
    "            break"
   ]
  },
  {
   "cell_type": "code",
   "execution_count": 29,
   "metadata": {},
   "outputs": [],
   "source": [
    "input_loc = \"Video_yogurt.mp4\"\n",
    "output_loc = \".\""
   ]
  },
  {
   "cell_type": "code",
   "execution_count": 30,
   "metadata": {},
   "outputs": [
    {
     "name": "stdout",
     "output_type": "stream",
     "text": [
      "Number of frames:  1169\n",
      "Converting video..\n",
      "\n",
      "Done extracting frames.\n",
      "1169 frames extracted\n",
      "It took 88 seconds forconversion.\n"
     ]
    }
   ],
   "source": [
    "video_to_frames(input_loc,output_loc)"
   ]
  },
  {
   "cell_type": "code",
   "execution_count": 1,
   "metadata": {},
   "outputs": [],
   "source": [
    "import cv2\n",
    "\n",
    "def rotate_image(mat, angle):\n",
    "    \"\"\"\n",
    "    Rotates an image (angle in degrees) and expands image to avoid cropping\n",
    "    \"\"\"\n",
    "\n",
    "    height, width = mat.shape[:2] # image shape has 3 dimensions\n",
    "    image_center = (width/2, height/2) # getRotationMatrix2D needs coordinates in reverse order (width, height) compared to shape\n",
    "\n",
    "    rotation_mat = cv2.getRotationMatrix2D(image_center, angle, 1.)\n",
    "\n",
    "    # rotation calculates the cos and sin, taking absolutes of those.\n",
    "    abs_cos = abs(rotation_mat[0,0]) \n",
    "    abs_sin = abs(rotation_mat[0,1])\n",
    "\n",
    "    # find the new width and height bounds\n",
    "    bound_w = int(height * abs_sin + width * abs_cos)\n",
    "    bound_h = int(height * abs_cos + width * abs_sin)\n",
    "\n",
    "    # subtract old image center (bringing image back to origo) and adding the new image center coordinates\n",
    "    rotation_mat[0, 2] += bound_w/2 - image_center[0]\n",
    "    rotation_mat[1, 2] += bound_h/2 - image_center[1]\n",
    "\n",
    "    # rotate image with the new bounds and translated rotation matrix\n",
    "    rotated_mat = cv2.warpAffine(mat, rotation_mat, (bound_w, bound_h))\n",
    "    return rotated_mat"
   ]
  },
  {
   "cell_type": "code",
   "execution_count": 7,
   "metadata": {},
   "outputs": [
    {
     "name": "stdout",
     "output_type": "stream",
     "text": [
      "Complete\n"
     ]
    }
   ],
   "source": [
    "import time\n",
    "import cv2\n",
    "import os\n",
    "import numpy as np\n",
    "#################### Setting up the file ################\n",
    "j = 1\n",
    "\n",
    "\n",
    "videoFile = \"data/video/Video_milk2.mp4\"\n",
    "vidcap = cv2.VideoCapture(videoFile)\n",
    "success,image = vidcap.read()\n",
    "\n",
    "#################### Setting up parameters ################\n",
    "\n",
    "#OpenCV is notorious for not being able to good to \n",
    "# predict how many frames are in a video. The point here is just to \n",
    "# populate the \"desired_frames\" list for all the individual frames\n",
    "# you'd like to capture. \n",
    "\n",
    "fps = vidcap.get(cv2.CAP_PROP_FPS)\n",
    "est_video_length_minutes = 3         # Round up if not sure.\n",
    "est_tot_frames = est_video_length_minutes * 60 * fps  # Sets an upper bound # of frames in video clip\n",
    "\n",
    "video_length = int(vidcap.get(cv2.CAP_PROP_FRAME_COUNT )) - 1\n",
    "n_result_frame = 30\n",
    "n = int(video_length/n_result_frame)               # Desired interval of frames to include\n",
    "desired_frames = n * np.arange(est_tot_frames) \n",
    "\n",
    "\n",
    "#################### Initiate Process ################\n",
    "\n",
    "output_folder = \"data/image/train/\"\n",
    "\n",
    "for i in desired_frames:\n",
    "    if i-1 <= video_length:\n",
    "        if(j==21):\n",
    "            output_folder = \"data/image/test/\"\n",
    "        vidcap.set(1,i-1)                      \n",
    "        success,img = vidcap.read(1)         # image is an array of array of [R,G,B] values\n",
    "        frameId = vidcap.get(1)                # The 0th frame is often a throw-away\n",
    "        r_img = rotate_image(img,270)\n",
    "#         num_rows, num_cols = img.shape[:2]\n",
    "#         rotation_matrix = cv2.getRotationMatrix2D((num_cols/2, num_rows/2), 270, 1)\n",
    "#         img_rotation = cv2.warpAffine(img, rotation_matrix, (num_cols, num_rows))\n",
    "        cv2.imwrite(\"%smilk2_%d.jpg\" %(output_folder,j), r_img)\n",
    "        j+=1\n",
    "\n",
    "vidcap.release()\n",
    "print (\"Complete\")"
   ]
  },
  {
   "cell_type": "code",
   "execution_count": 9,
   "metadata": {},
   "outputs": [],
   "source": [
    "img = cv2.imread('data/image/train/milk2_20.jpg')"
   ]
  },
  {
   "cell_type": "code",
   "execution_count": 10,
   "metadata": {},
   "outputs": [],
   "source": [
    "r_img = rotate_image(img,270)"
   ]
  },
  {
   "cell_type": "code",
   "execution_count": 11,
   "metadata": {},
   "outputs": [
    {
     "data": {
      "text/plain": [
       "True"
      ]
     },
     "execution_count": 11,
     "metadata": {},
     "output_type": "execute_result"
    }
   ],
   "source": [
    "output_folder = \"data/image/train/new_img.jpg\"\n",
    "cv2.imwrite(output_folder, r_img)"
   ]
  },
  {
   "cell_type": "code",
   "execution_count": 4,
   "metadata": {},
   "outputs": [
    {
     "data": {
      "text/plain": [
       "'data/image/train/milk2_128700.jpg'"
      ]
     },
     "execution_count": 4,
     "metadata": {},
     "output_type": "execute_result"
    }
   ],
   "source": [
    "output_folder = \"data/image/train/\"\n",
    "\"%smilk2_%d.jpg\" %(output_folder,i)"
   ]
  },
  {
   "cell_type": "code",
   "execution_count": 2,
   "metadata": {},
   "outputs": [
    {
     "data": {
      "text/plain": [
       "'D:\\\\r-cnn'"
      ]
     },
     "execution_count": 2,
     "metadata": {},
     "output_type": "execute_result"
    }
   ],
   "source": [
    "import os\n",
    "os.getcwd()"
   ]
  },
  {
   "cell_type": "markdown",
   "metadata": {},
   "source": [
    "import numpy as np\n",
    "import cv2\n",
    "\n",
    "cap = cv2.VideoCapture(\"Video_yogurt.mp4\")\n",
    "\n",
    "while(cap.isOpened()):\n",
    "    ret, frame = cap.read()\n",
    "\n",
    "    cv2.imshow('frame',frame)\n",
    "    if cv2.waitKey(1) & 0xFF == ord('q'):\n",
    "        break\n",
    "\n",
    "cap.release()\n",
    "cv2.destroyAllWindows()"
   ]
  }
 ],
 "metadata": {
  "kernelspec": {
   "display_name": "Python 3",
   "language": "python",
   "name": "python3"
  },
  "language_info": {
   "codemirror_mode": {
    "name": "ipython",
    "version": 3
   },
   "file_extension": ".py",
   "mimetype": "text/x-python",
   "name": "python",
   "nbconvert_exporter": "python",
   "pygments_lexer": "ipython3",
   "version": "3.5.6"
  }
 },
 "nbformat": 4,
 "nbformat_minor": 2
}
