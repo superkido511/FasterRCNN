{
 "cells": [
  {
   "execution_count": 24,
   "metadata": {},
   "outputs": [],
   "source": [
    "import time\n",
    "import cv2\n",
    "import os"
   ]
  },
  {
   "cell_type": "code",
   "execution_count": 28,
   "metadata": {},
   "outputs": [],
   "source": [
    "def video_to_frames(input_loc, output_loc):\n",
    "    \"\"\"Function to extract frames from input video file\n",
    "    and save them as separate frames in an output directory.\n",
    "    Args:\n",
    "        input_loc: Input video file.\n",
    "        output_loc: Output directory to save the frames.\n",
    "    Returns:\n",
    "        None\n",
    "    \"\"\"\n",
    "    try:\n",
    "        os.mkdir(output_loc)\n",
    "    except OSError:\n",
    "        pass\n",
    "    # Log the time\n",
    "    time_start = time.time()\n",
    "    # Start capturing the feed\n",
    "    cap = cv2.VideoCapture(input_loc)\n",
    "    if not cap.isOpened(): \n",
    "        print(\"could not open :\",input_loc)\n",
    "        return\n",
    "    # Find the number of frames\n",
    "    video_length = int(cap.get(cv2.CAP_PROP_FRAME_COUNT )) - 1\n",
    "    print (\"Number of frames: \", video_length)\n",
    "    count = 0\n",
    "    print (\"Converting video..\\n\")\n",
    "    # Start converting the video\n",
    "    while cap.isOpened():\n",
    "        cap.set(cv2.CAP_PROP_POS_FRAMES, 10)\n",
    "        # Extract the frame\n",
    "        ret, frame = cap.read()\n",
    "        # Write the results back to output location.\n",
    "        cv2.imwrite(output_loc + \"/%#05d.jpg\" % (count+1), frame)\n",
    "        count = count + 1\n",
    "        # If there are no more frames left\n",
    "        if (count > (video_length-1)):\n",
    "            # Log the time again\n",
    "            time_end = time.time()\n",
    "            # Release the feed\n",
    "            cap.release()\n",
    "            # Print stats\n",
    "            print (\"Done extracting frames.\\n%d frames extracted\" % count)\n",
    "            print (\"It took %d seconds forconversion.\" % (time_end-time_start))\n",
    "            break"
   ]
  },
  {
   "cell_type": "code",
   "execution_count": 29,
   "metadata": {},
   "outputs": [],
   "source": [
    "input_loc = \"Video_yogurt.mp4\"\n",
    "output_loc = \".\""
   ]
  },
  {
   "cell_type": "code",
   "execution_count": 30,
   "metadata": {},
   "outputs": [
    {
     "name": "stdout",
     "output_type": "stream",
     "text": [
      "Number of frames:  1169\n",
      "Converting video..\n",
      "\n",
      "Done extracting frames.\n",
      "1169 frames extracted\n",
      "It took 88 seconds forconversion.\n"
     ]
    }
   ],
   "source": [
    "video_to_frames(input_loc,output_loc)"
   ]
  },
  {
   "cell_type": "code",
   "execution_count": 12,
   "metadata": {},
   "outputs": [
    {
     "name": "stdout",
     "output_type": "stream",
     "text": [
      "Complete\n"
     ]
    }
   ],
   "source": [
    "import time\n",
    "import cv2\n",
    "import os\n",
    "import numpy as np\n",
    "#################### Setting up the file ################\n",
    "videoFile = \"Video_milk2.mp4\"\n",
    "vidcap = cv2.VideoCapture(videoFile)\n",
    "success,image = vidcap.read()\n",
    "\n",
    "#################### Setting up parameters ################\n",
    "\n",
    "#OpenCV is notorious for not being able to good to \n",
    "# predict how many frames are in a video. The point here is just to \n",
    "# populate the \"desired_frames\" list for all the individual frames\n",
    "# you'd like to capture. \n",
    "\n",
    "fps = vidcap.get(cv2.CAP_PROP_FPS)\n",
    "est_video_length_minutes = 3         # Round up if not sure.\n",
    "est_tot_frames = est_video_length_minutes * 60 * fps  # Sets an upper bound # of frames in video clip\n",
    "\n",
    "video_length = int(vidcap.get(cv2.CAP_PROP_FRAME_COUNT )) - 1\n",
    "n_result_frame = 30\n",
    "n = int(video_length/n_result_frame)               # Desired interval of frames to include\n",
    "desired_frames = n * np.arange(est_tot_frames) \n",
    "\n",
    "\n",
    "#################### Initiate Process ################\n",
    "\n",
    "for i in desired_frames:\n",
    "    if i-1 <= video_length:\n",
    "        vidcap.set(1,i-1)                      \n",
    "        success,image = vidcap.read(1)         # image is an array of array of [R,G,B] values\n",
    "        frameId = vidcap.get(1)                # The 0th frame is often a throw-away\n",
    "        cv2.imwrite(\"FolderFrames/Milk2/train/frame%d.jpg\" % frameId, image)\n",
    "\n",
    "vidcap.release()\n",
    "print (\"Complete\")"
   ]
  },
  {
   "cell_type": "code",
   "execution_count": 3,
   "metadata": {},
   "outputs": [
    {
     "data": {
      "text/plain": [
       "array([0.0000e+00, 5.0000e+00, 1.0000e+01, ..., 1.7865e+04, 1.7870e+04,\n",
       "       1.7875e+04])"
      ]
     },
     "execution_count": 3,
     "metadata": {},
     "output_type": "execute_result"
    }
   ],
   "source": [
    "desired_frames"
   ]
  },
  {
   "cell_type": "code",
   "execution_count": 2,
   "metadata": {},
   "outputs": [
    {
     "data": {
      "text/plain": [
       "'D:\\\\r-cnn'"
      ]
     },
     "execution_count": 2,
     "metadata": {},
     "output_type": "execute_result"
    }
   ],
   "source": [
    "import os\n",
    "os.getcwd()"
   ]
  },
  {
   "cell_type": "markdown",
   "metadata": {},
   "source": [
    "import numpy as np\n",
    "import cv2\n",
    "\n",
    "cap = cv2.VideoCapture(\"Video_yogurt.mp4\")\n",
    "\n",
    "while(cap.isOpened()):\n",
    "    ret, frame = cap.read()\n",
    "\n",
    "    cv2.imshow('frame',frame)\n",
    "    if cv2.waitKey(1) & 0xFF == ord('q'):\n",
    "        break\n",
    "\n",
    "cap.release()\n",
    "cv2.destroyAllWindows()"
   ]
  }
 ],
 "metadata": {
  "kernelspec": {
   "display_name": "Python 3",
   "language": "python",
   "name": "python3"
  },
  "language_info": {
   "codemirror_mode": {
    "name": "ipython",
    "version": 3
   },
   "file_extension": ".py",
   "mimetype": "text/x-python",
   "name": "python",
   "nbconvert_exporter": "python",
   "pygments_lexer": "ipython3",
   "version": "3.5.6"
  }
 },
 "nbformat": 4,
 "nbformat_minor": 2
}
